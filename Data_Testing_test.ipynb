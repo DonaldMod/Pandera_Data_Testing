{
 "cells": [
  {
   "cell_type": "code",
   "execution_count": null,
   "metadata": {},
   "outputs": [],
   "source": [
    "import pandas as pd\n",
    "import pandera\n",
    "from pandera.errors import SchemaErrors\n",
    "from pandera import DataFrameSchema, Column, Check\n",
    "from datetime import datetime\n",
    "import logging\n",
    "import math"
   ]
  },
  {
   "cell_type": "code",
   "execution_count": null,
   "metadata": {},
   "outputs": [],
   "source": [
    "# Set up logging\n",
    "logging.basicConfig(filename='validation_errors.log', level=logging.INFO, format='%(asctime)s - %(levelname)s - %(message)s')\n"
   ]
  },
  {
   "cell_type": "code",
   "execution_count": null,
   "metadata": {},
   "outputs": [],
   "source": [
    "df = pd.DataFrame({\n",
    "    \"column1\": [1, 4, 0, 10, 9],\n",
    "    \"column2\": [\"14-APR-24\", \"30-FEB-24\", \"14-APR-24\", \"14-FEB-24\", \"14-APR-24\"],\n",
    "    \"column3\": [\"19770419\", \"19770419\", \"19770426\", \"19771239\", \"19770419\"],\n",
    "})"
   ]
  },
  {
   "cell_type": "code",
   "execution_count": null,
   "metadata": {},
   "outputs": [],
   "source": [
    "df"
   ]
  },
  {
   "cell_type": "code",
   "execution_count": null,
   "metadata": {},
   "outputs": [],
   "source": [
    "def is_valid_date(date_string, date_format):\n",
    "    try:\n",
    "        if not date_string:\n",
    "            return True\n",
    "        \n",
    "        if isinstance(date_string, float) and math.isnan(date_string):\n",
    "            return True\n",
    "        \n",
    "        datetime.strptime(date_string, date_format)\n",
    "        return True\n",
    "    except ValueError:\n",
    "        return False\n"
   ]
  },
  {
   "cell_type": "code",
   "execution_count": null,
   "metadata": {},
   "outputs": [],
   "source": [
    "OutputSchema = DataFrameSchema({\n",
    "    \"column1\": Column(int, nullable=False),\n",
    "    \"column2\": Column(str, nullable=True, checks=[\n",
    "        Check(lambda x: is_valid_date(x, \"%d-%b-%y\"), element_wise=True, name=\"date_exists_and_is_valid\"),\n",
    "        ]),\n",
    "    \"column3\": Column(str, nullable=False, checks=[\n",
    "        Check(lambda x: is_valid_date(x, \"%Y%m%d\"), element_wise=True, name=\"date_exists_and_is_valid\"),\n",
    "        ]),\n",
    "})"
   ]
  },
  {
   "cell_type": "code",
   "execution_count": null,
   "metadata": {},
   "outputs": [],
   "source": [
    "def main():\n",
    "    try:\n",
    "        listis = OutputSchema.validate(df, lazy=True)\n",
    "        print(listis.head())\n",
    "    except SchemaErrors as err:\n",
    "        for x in err.schema_errors:\n",
    "            print(f\"Validation failed: {x} {err.failure_cases['index']}\")\n",
    "            logging.error(f\"Validation failed: {x} {err.failure_cases['index']}\")\n",
    "        \n",
    "        if err.failure_cases is not None:\n",
    "            failed_indices = err.failure_cases['index'].tolist()\n",
    "            print(\"Failed rows:\")\n",
    "            print(failed_indices)\n",
    "            print(df.iloc[failed_indices])\n",
    "            logging.error(\"Failed rows:\")\n",
    "            logging.error(failed_indices)\n",
    "            logging.error(df.iloc[failed_indices])\n"
   ]
  },
  {
   "cell_type": "code",
   "execution_count": null,
   "metadata": {},
   "outputs": [],
   "source": [
    "if __name__ == \"__main__\":\n",
    "    main()"
   ]
  }
 ],
 "metadata": {
  "kernelspec": {
   "display_name": "Python 3",
   "language": "python",
   "name": "python3"
  },
  "language_info": {
   "codemirror_mode": {
    "name": "ipython",
    "version": 3
   },
   "file_extension": ".py",
   "mimetype": "text/x-python",
   "name": "python",
   "nbconvert_exporter": "python",
   "pygments_lexer": "ipython3",
   "version": "3.11.4"
  }
 },
 "nbformat": 4,
 "nbformat_minor": 2
}
