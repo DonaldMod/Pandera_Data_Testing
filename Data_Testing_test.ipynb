{
 "cells": [
  {
   "cell_type": "code",
   "execution_count": 1,
   "metadata": {},
   "outputs": [],
   "source": [
    "import pandas as pd\n",
    "import pandera\n",
    "from pandera.errors import SchemaErrors\n",
    "from pandera import DataFrameSchema, Column, Check\n",
    "from datetime import datetime\n",
    "import logging\n",
    "import math"
   ]
  },
  {
   "cell_type": "code",
   "execution_count": 2,
   "metadata": {},
   "outputs": [],
   "source": [
    "# Set up logging\n",
    "logging.basicConfig(filename='validation_errors.log', level=logging.INFO, format='%(asctime)s - %(levelname)s - %(message)s')\n"
   ]
  },
  {
   "cell_type": "code",
   "execution_count": 3,
   "metadata": {},
   "outputs": [],
   "source": [
    "df = pd.DataFrame({\n",
    "    \"column1\": [1, 4, 0, 10, 9],\n",
    "    \"column2\": [\"14-APR-24\", \"30-FEB-24\", \"14-APR-24\", \"14-FEB-24\", \"14-APR-24\"],\n",
    "    \"column3\": [\"19770419\", \"19770419\", \"19770426\", \"19771239\", \"19770419\"],\n",
    "})"
   ]
  },
  {
   "cell_type": "code",
   "execution_count": 4,
   "metadata": {},
   "outputs": [
    {
     "data": {
      "text/html": [
       "<div>\n",
       "<style scoped>\n",
       "    .dataframe tbody tr th:only-of-type {\n",
       "        vertical-align: middle;\n",
       "    }\n",
       "\n",
       "    .dataframe tbody tr th {\n",
       "        vertical-align: top;\n",
       "    }\n",
       "\n",
       "    .dataframe thead th {\n",
       "        text-align: right;\n",
       "    }\n",
       "</style>\n",
       "<table border=\"1\" class=\"dataframe\">\n",
       "  <thead>\n",
       "    <tr style=\"text-align: right;\">\n",
       "      <th></th>\n",
       "      <th>column1</th>\n",
       "      <th>column2</th>\n",
       "      <th>column3</th>\n",
       "    </tr>\n",
       "  </thead>\n",
       "  <tbody>\n",
       "    <tr>\n",
       "      <th>0</th>\n",
       "      <td>1</td>\n",
       "      <td>14-APR-24</td>\n",
       "      <td>19770419</td>\n",
       "    </tr>\n",
       "    <tr>\n",
       "      <th>1</th>\n",
       "      <td>4</td>\n",
       "      <td>30-FEB-24</td>\n",
       "      <td>19770419</td>\n",
       "    </tr>\n",
       "    <tr>\n",
       "      <th>2</th>\n",
       "      <td>0</td>\n",
       "      <td>14-APR-24</td>\n",
       "      <td>19770426</td>\n",
       "    </tr>\n",
       "    <tr>\n",
       "      <th>3</th>\n",
       "      <td>10</td>\n",
       "      <td>14-FEB-24</td>\n",
       "      <td>19771239</td>\n",
       "    </tr>\n",
       "    <tr>\n",
       "      <th>4</th>\n",
       "      <td>9</td>\n",
       "      <td>14-APR-24</td>\n",
       "      <td>19770419</td>\n",
       "    </tr>\n",
       "  </tbody>\n",
       "</table>\n",
       "</div>"
      ],
      "text/plain": [
       "   column1    column2   column3\n",
       "0        1  14-APR-24  19770419\n",
       "1        4  30-FEB-24  19770419\n",
       "2        0  14-APR-24  19770426\n",
       "3       10  14-FEB-24  19771239\n",
       "4        9  14-APR-24  19770419"
      ]
     },
     "execution_count": 4,
     "metadata": {},
     "output_type": "execute_result"
    }
   ],
   "source": [
    "df"
   ]
  },
  {
   "cell_type": "code",
   "execution_count": 5,
   "metadata": {},
   "outputs": [],
   "source": [
    "def is_valid_date(date_string, date_format):\n",
    "    try:\n",
    "        if not date_string:\n",
    "            return True\n",
    "        \n",
    "        if isinstance(date_string, float) and math.isnan(date_string):\n",
    "            return True\n",
    "        \n",
    "        datetime.strptime(date_string, date_format)\n",
    "        return True\n",
    "    except ValueError:\n",
    "        return False\n"
   ]
  },
  {
   "cell_type": "code",
   "execution_count": 6,
   "metadata": {},
   "outputs": [],
   "source": [
    "OutputSchema = DataFrameSchema({\n",
    "    \"column1\": Column(int, nullable=False),\n",
    "    \"column2\": Column(str, nullable=True, checks=[\n",
    "        Check(lambda x: is_valid_date(x, \"%d-%b-%y\"), element_wise=True, name=\"date_exists_and_is_valid\"),\n",
    "        ]),\n",
    "    \"column3\": Column(str, nullable=False, checks=[\n",
    "        Check(lambda x: is_valid_date(x, \"%Y%m%d\"), element_wise=True, name=\"date_exists_and_is_valid\"),\n",
    "        ]),\n",
    "})"
   ]
  },
  {
   "cell_type": "code",
   "execution_count": 7,
   "metadata": {},
   "outputs": [],
   "source": [
    "def main():\n",
    "    try:\n",
    "        listis = OutputSchema.validate(df, lazy=True)\n",
    "        print(listis.head())\n",
    "    except SchemaErrors as err:\n",
    "        for x in err.schema_errors:\n",
    "            print(f\"Validation failed: {x} {err.failure_cases['index']}\")\n",
    "            logging.error(f\"Validation failed: {x} {err.failure_cases['index']}\")\n",
    "        \n",
    "        if err.failure_cases is not None:\n",
    "            failed_indices = err.failure_cases['index'].tolist()\n",
    "            print(\"Failed rows:\")\n",
    "            print(failed_indices)\n",
    "            print(df.iloc[failed_indices])\n",
    "            logging.error(\"Failed rows:\")\n",
    "            logging.error(failed_indices)\n",
    "            logging.error(df.iloc[failed_indices])\n"
   ]
  },
  {
   "cell_type": "code",
   "execution_count": 8,
   "metadata": {},
   "outputs": [
    {
     "name": "stdout",
     "output_type": "stream",
     "text": [
      "Validation failed: Column 'column2' failed element-wise validator number 0: <Check date_exists_and_is_valid> failure cases: 30-FEB-24 0    1\n",
      "1    3\n",
      "Name: index, dtype: int64\n",
      "Validation failed: Column 'column3' failed element-wise validator number 0: <Check date_exists_and_is_valid> failure cases: 19771239 0    1\n",
      "1    3\n",
      "Name: index, dtype: int64\n",
      "Failed rows:\n",
      "[1, 3]\n",
      "   column1    column2   column3\n",
      "1        4  30-FEB-24  19770419\n",
      "3       10  14-FEB-24  19771239\n"
     ]
    }
   ],
   "source": [
    "if __name__ == \"__main__\":\n",
    "    main()"
   ]
  }
 ],
 "metadata": {
  "kernelspec": {
   "display_name": "Python 3",
   "language": "python",
   "name": "python3"
  },
  "language_info": {
   "codemirror_mode": {
    "name": "ipython",
    "version": 3
   },
   "file_extension": ".py",
   "mimetype": "text/x-python",
   "name": "python",
   "nbconvert_exporter": "python",
   "pygments_lexer": "ipython3",
   "version": "3.11.4"
  }
 },
 "nbformat": 4,
 "nbformat_minor": 2
}
